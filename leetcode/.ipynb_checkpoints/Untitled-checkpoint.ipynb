{
 "cells": [
  {
   "cell_type": "code",
   "execution_count": 121,
   "id": "2c345ad5",
   "metadata": {},
   "outputs": [
    {
     "data": {
      "text/plain": [
       "[[0, 1, 2, 3],\n",
       " [1, 1, 2, 3],\n",
       " [2, 2, 1, 2],\n",
       " [3, 2, 2, 2],\n",
       " [4, 3, 3, 2],\n",
       " [5, 4, 4, 3]]"
      ]
     },
     "execution_count": 121,
     "metadata": {},
     "output_type": "execute_result"
    }
   ],
   "source": [
    "word1 = \"horse\"\n",
    "word2 = \"ros\"\n",
    "m,n = len(word1), len(word2)\n",
    "dpmatrix = [[0]*(n+1) for i in range(m+1)] #[m,n] \n",
    "# need 1 more dim to fill with 0 cuz \"h\" -> \"r\" = 1 not 0\n",
    "\n",
    "\n",
    "# 3 ways of altering： \n",
    "# replace: dp[i][j] = dp[i-1][j-1] + 1\n",
    "# add:     dp[i][j] = dp[i-1][j] + 1\n",
    "# del:     dp[i][j] = dp[i][j-1] + 1\n",
    "# so the definition of state tranfering equation is:\n",
    "# dp[i] [j] = min(dp[i-1] [j-1]，dp[i] [j-1]，dp[[i-1] [j]]) + 1;\n",
    "\n",
    "for i in range(1,m+1):\n",
    "    dpmatrix[i][0] = dpmatrix[i-1][0] + 1\n",
    "for j in range(1,n+1):\n",
    "    dpmatrix[0][j] = dpmatrix[0][j-1] + 1\n",
    "\n",
    "for i in range(1,m+1):\n",
    "    for j in range(1,n+1):\n",
    "        if word1[i-1] == word2[j-1]:\n",
    "            dpmatrix[i][j] = dpmatrix[i-1][j-1]\n",
    "        else:\n",
    "            dpmatrix[i][j] = min(dpmatrix[i-1][j-1], dpmatrix[i][j-1], dpmatrix[i-1][j]) + 1\n",
    "dpmatrix"
   ]
  }
 ],
 "metadata": {
  "kernelspec": {
   "display_name": "Python 3 (ipykernel)",
   "language": "python",
   "name": "python3"
  },
  "language_info": {
   "codemirror_mode": {
    "name": "ipython",
    "version": 3
   },
   "file_extension": ".py",
   "mimetype": "text/x-python",
   "name": "python",
   "nbconvert_exporter": "python",
   "pygments_lexer": "ipython3",
   "version": "3.9.13"
  }
 },
 "nbformat": 4,
 "nbformat_minor": 5
}
