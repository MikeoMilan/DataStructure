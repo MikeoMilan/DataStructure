{
 "cells": [
  {
   "cell_type": "markdown",
   "id": "5a95f79f",
   "metadata": {},
   "source": [
    "# heapsort -> n*log(n)"
   ]
  },
  {
   "cell_type": "code",
   "execution_count": 12,
   "id": "da3a8c5d",
   "metadata": {},
   "outputs": [
    {
     "data": {
      "text/plain": [
       "[-6, -1, 2, 3, 4, 6, 20, 100]"
      ]
     },
     "execution_count": 12,
     "metadata": {},
     "output_type": "execute_result"
    }
   ],
   "source": [
    "def max_heap_sort(arr):\n",
    "    n = len(arr)\n",
    "    for i in range(n // 2 - 1, -1, -1):\n",
    "        my_heapify(arr, n, i)\n",
    "    \n",
    "    for i in range(n-1, 0, -1):\n",
    "        arr[i], arr[0] = arr[0], arr[i]\n",
    "        heapify(arr, i, 0)\n",
    "        \n",
    "    return arr\n",
    "    \n",
    "def my_heapify(arr, n, i):\n",
    "    largest = i\n",
    "    left_node = 2 * i + 1 \n",
    "    right_node = 2 * i + 2\n",
    "    \n",
    "    if left_node < n and arr[left_node] > arr[largest]:\n",
    "        largest = left_node\n",
    "    \n",
    "    if right_node < n and arr[right_node] > arr[largest]:\n",
    "        largest = right_node\n",
    "    \n",
    "    if largest != i:\n",
    "        arr[i], arr[largest] = arr[largest], arr[i]\n",
    "        my_heapify(arr, n, largest)\n",
    "\n",
    "arr = [100,3,6,2,-1,-6,4,20]\n",
    "max_heap_sort(arr)"
   ]
  },
  {
   "cell_type": "code",
   "execution_count": null,
   "id": "630890c0",
   "metadata": {},
   "outputs": [],
   "source": []
  },
  {
   "cell_type": "code",
   "execution_count": null,
   "id": "4b67e018",
   "metadata": {},
   "outputs": [],
   "source": []
  },
  {
   "cell_type": "markdown",
   "id": "6d9ab47f",
   "metadata": {},
   "source": [
    "# insertion sort -> n^2"
   ]
  },
  {
   "cell_type": "code",
   "execution_count": 18,
   "id": "71903a02",
   "metadata": {},
   "outputs": [
    {
     "name": "stdout",
     "output_type": "stream",
     "text": [
      "Sorted array is\n",
      "-6 -1 2 3 4 6 20 100 "
     ]
    }
   ],
   "source": [
    "def insertion_sort(arr):\n",
    "    n = len(arr)\n",
    "    for i in range(1, n):\n",
    "        j = i\n",
    "        while j > 0 and arr[j] < arr[j-1]:\n",
    "            arr[j], arr[j-1] = arr[j-1], arr[j]\n",
    "            j -= 1\n",
    "    return arr\n",
    "\n",
    "arr = [100,3,6,2,-1,-6,4,20]\n",
    "arr = insertion_sort(arr)\n",
    "print (\"Sorted array is\")\n",
    "for i in range(n):\n",
    "     print (arr[i],end=\" \")"
   ]
  },
  {
   "cell_type": "code",
   "execution_count": null,
   "id": "812acac4",
   "metadata": {},
   "outputs": [],
   "source": []
  },
  {
   "cell_type": "markdown",
   "id": "adf7716f",
   "metadata": {},
   "source": [
    "# selection sort -> n^2"
   ]
  },
  {
   "cell_type": "code",
   "execution_count": 28,
   "id": "13356405",
   "metadata": {},
   "outputs": [
    {
     "name": "stdout",
     "output_type": "stream",
     "text": [
      "Sorted array is\n",
      "-6 -1 2 3 4 6 20 100 "
     ]
    }
   ],
   "source": [
    "def selection_sort(arr):\n",
    "    n = len(arr)\n",
    "    for i in range(0,n):\n",
    "        min_idx = i\n",
    "        j = i + 1\n",
    "        while j < n:\n",
    "            if arr[min_idx] > arr[j]:\n",
    "                min_idx = j\n",
    "            j += 1\n",
    "        arr[i], arr[min_idx] = arr[min_idx], arr[i] \n",
    "    return arr\n",
    "arr = [100,3,6,2,-1,-6,4,20]\n",
    "arr = selection_sort(arr)\n",
    "print (\"Sorted array is\")\n",
    "for i in range(n):\n",
    "     print (arr[i],end=\" \")"
   ]
  },
  {
   "cell_type": "code",
   "execution_count": null,
   "id": "64704fdd",
   "metadata": {},
   "outputs": [],
   "source": []
  },
  {
   "cell_type": "markdown",
   "id": "f5806ba9",
   "metadata": {},
   "source": [
    "# Merge sort -> n*long(n)"
   ]
  },
  {
   "cell_type": "code",
   "execution_count": 5,
   "id": "e86539dc",
   "metadata": {
    "scrolled": true
   },
   "outputs": [
    {
     "name": "stdout",
     "output_type": "stream",
     "text": [
      "Sorted array is\n",
      "-6 -1 2 3 4 6 20 100 "
     ]
    }
   ],
   "source": [
    "def merge_sort(arr):\n",
    "    if len(arr) <= 1:\n",
    "        return arr\n",
    "    \n",
    "    # Divide the array into two halves\n",
    "    mid = len(arr) // 2\n",
    "    left_half = arr[:mid]\n",
    "    right_half = arr[mid:]\n",
    "    \n",
    "    # Recursively sort the two halves\n",
    "    left_half = merge_sort(left_half)\n",
    "    right_half = merge_sort(right_half)\n",
    "\n",
    "    # Merge the sorted halves back together\n",
    "    return merge(left_half, right_half)\n",
    "    \n",
    "def merge(left_half, right_half):\n",
    "    result = []\n",
    "    i, j = 0, 0\n",
    "\n",
    "    # Merge the two halves by comparing the first element of each\n",
    "    # and adding the smaller one to the result list\n",
    "    while i < len(left_half) and j < len(right_half):\n",
    "        if left_half[i] <= right_half[j]:\n",
    "            result.append(left_half[i])\n",
    "            i += 1\n",
    "        else:\n",
    "            result.append(right_half[j])\n",
    "            j += 1\n",
    "    \n",
    "    # Add any remaining elements to the result list\n",
    "    result += left_half[i:]\n",
    "    result += right_half[j:]\n",
    "    return result\n",
    "\n",
    "arr = [100,3,6,2,-1,-6,4,20]\n",
    "arr = merge_sort(arr)\n",
    "print (\"Sorted array is\")\n",
    "for i in range(len(arr)):\n",
    "     print (arr[i],end=\" \")"
   ]
  },
  {
   "cell_type": "code",
   "execution_count": null,
   "id": "7d261923",
   "metadata": {},
   "outputs": [],
   "source": []
  },
  {
   "cell_type": "code",
   "execution_count": 2,
   "id": "607c35cc",
   "metadata": {},
   "outputs": [
    {
     "data": {
      "text/plain": [
       "[-6, -1, 2, 3, 4, 6, 20, 100]"
      ]
     },
     "execution_count": 2,
     "metadata": {},
     "output_type": "execute_result"
    }
   ],
   "source": [
    "def merge_sort(arr):\n",
    "    n = len(arr)\n",
    "    if n <= 1:\n",
    "        return arr\n",
    "    mid_idx = n // 2 \n",
    "    left_half = arr[:mid_idx]\n",
    "    right_half = arr[mid_idx:]\n",
    "    \n",
    "    left_half = merge_sort(left_half)\n",
    "    right_half = merge_sort(right_half)\n",
    "    \n",
    "    return merge(left_half, right_half)\n",
    "\n",
    "def merge(left_half, right_half):\n",
    "    result = []\n",
    "    i, j = 0, 0\n",
    "    while i < len(left_half) and j < len(right_half):\n",
    "        if left_half[i] <= right_half[j]:\n",
    "            result.append(left_half[i])\n",
    "            i += 1 \n",
    "        else:\n",
    "            result.append(right_half[j])\n",
    "            j += 1\n",
    "    result += left_half[i:]\n",
    "    result += right_half[j:]\n",
    "    \n",
    "    return result\n",
    "arr = [100,3,6,2,-1,-6,4,20]\n",
    "merge_sort(arr)"
   ]
  },
  {
   "cell_type": "code",
   "execution_count": null,
   "id": "99f41680",
   "metadata": {},
   "outputs": [],
   "source": []
  },
  {
   "cell_type": "markdown",
   "id": "9bedaf98",
   "metadata": {},
   "source": [
    "# Quick sort  -> from n*log(n) to n**2"
   ]
  },
  {
   "cell_type": "code",
   "execution_count": 83,
   "id": "d48fc1e5",
   "metadata": {
    "scrolled": true
   },
   "outputs": [
    {
     "name": "stdout",
     "output_type": "stream",
     "text": [
      "[-6, -1, 3, 4, 5, 6, 12, 100]\n"
     ]
    }
   ],
   "source": [
    "def my_quick_sort(arr, low, high):\n",
    "    if low < high:\n",
    "        pivot_val = pivot(arr, low, high)\n",
    "        \n",
    "        my_quick_sort(arr, low, pivot_val - 1)\n",
    "        my_quick_sort(arr, pivot_val, high)\n",
    "        \n",
    "def pivot(arr, low, high):\n",
    "    i = low\n",
    "    pivot_value = arr[high]\n",
    "    for j in range(low, high):\n",
    "        if arr[j] <= pivot_value:\n",
    "            arr[i], arr[j] = arr[j], arr[i]\n",
    "            i += 1 \n",
    "    arr[i], arr[high] = arr[high], arr[i]\n",
    "    \n",
    "    return i \n",
    "\n",
    "arr = [3,6,100,12,-1,-6,4,5]\n",
    "my_quick_sort(arr, 0, len(arr) - 1)\n",
    "print(arr)"
   ]
  },
  {
   "cell_type": "code",
   "execution_count": null,
   "id": "f82910f1",
   "metadata": {},
   "outputs": [],
   "source": []
  },
  {
   "cell_type": "code",
   "execution_count": 39,
   "id": "296f0229",
   "metadata": {},
   "outputs": [
    {
     "data": {
      "text/plain": [
       "6"
      ]
     },
     "execution_count": 39,
     "metadata": {},
     "output_type": "execute_result"
    }
   ],
   "source": [
    "def trap(height):\n",
    "    n = len(height)\n",
    "    left, right = 0, n - 1\n",
    "    max_l, max_r = height[left], height[right]\n",
    "    res = 0\n",
    "    while left <= right:\n",
    "        if max_l < max_r:\n",
    "            max_l = max(max_l, height[left])\n",
    "            res += max_l - height[left]\n",
    "            left += 1\n",
    "        else:\n",
    "            max_r = max(max_r, height[right])\n",
    "            res += max_r - height[right]\n",
    "            right -= 1\n",
    "    return res\n",
    "trap([0,1,0,2,1,0,1,3,2,1,2,1])"
   ]
  }
 ],
 "metadata": {
  "kernelspec": {
   "display_name": "Python 3 (ipykernel)",
   "language": "python",
   "name": "python3"
  },
  "language_info": {
   "codemirror_mode": {
    "name": "ipython",
    "version": 3
   },
   "file_extension": ".py",
   "mimetype": "text/x-python",
   "name": "python",
   "nbconvert_exporter": "python",
   "pygments_lexer": "ipython3",
   "version": "3.9.13"
  }
 },
 "nbformat": 4,
 "nbformat_minor": 5
}
