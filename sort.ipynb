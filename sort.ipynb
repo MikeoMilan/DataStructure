{
 "cells": [
  {
   "cell_type": "markdown",
   "id": "5a95f79f",
   "metadata": {},
   "source": [
    "# heapsort -> n*log(n)"
   ]
  },
  {
   "cell_type": "code",
   "execution_count": 11,
   "id": "14829441",
   "metadata": {},
   "outputs": [
    {
     "name": "stdout",
     "output_type": "stream",
     "text": [
      "Sorted array is\n",
      "-6 -1 2 3 4 6 20 100 "
     ]
    }
   ],
   "source": [
    "def heapsort(arr):\n",
    "    n = len(arr)\n",
    "\n",
    "    # Build a max-heap from the input array\n",
    "    for i in range(n // 2 - 1, -1, -1):  # starting from the last parent node since the right child is uncertain\n",
    "        heapify(arr, n, i)\n",
    "\n",
    "    # Extract the maximum element from the heap and\n",
    "    # swap it with the last element of the heap\n",
    "    for i in range(n - 1, 0, -1):\n",
    "        arr[0], arr[i] = arr[i], arr[0]\n",
    "        heapify(arr, i, 0)\n",
    "\n",
    "    return arr\n",
    "\n",
    "def heapify(arr, n, i):\n",
    "    # Find the largest element among the root and its children\n",
    "    largest = i\n",
    "    left = 2 * i + 1\n",
    "    right = 2 * i + 2\n",
    "\n",
    "    if left < n and arr[left] > arr[largest]:\n",
    "        largest = left\n",
    "\n",
    "    if right < n and arr[right] > arr[largest]:\n",
    "        largest = right\n",
    "\n",
    "    # If the largest element is not the root, swap it with the root\n",
    "    if largest != i:\n",
    "        arr[i], arr[largest] = arr[largest], arr[i]\n",
    "        heapify(arr, n, largest)\n",
    "\n",
    "arr = [100,3,6,2,-1,-6,4,20]\n",
    "heapsort(arr)\n",
    "n = len(arr)\n",
    "print (\"Sorted array is\")\n",
    "for i in range(n):\n",
    "     print (arr[i],end=\" \")"
   ]
  },
  {
   "cell_type": "code",
   "execution_count": null,
   "id": "846848ef",
   "metadata": {},
   "outputs": [],
   "source": []
  },
  {
   "cell_type": "markdown",
   "id": "6d9ab47f",
   "metadata": {},
   "source": [
    "# insertion sort -> n^2"
   ]
  },
  {
   "cell_type": "code",
   "execution_count": 18,
   "id": "71903a02",
   "metadata": {},
   "outputs": [
    {
     "name": "stdout",
     "output_type": "stream",
     "text": [
      "Sorted array is\n",
      "-6 -1 2 3 4 6 20 100 "
     ]
    }
   ],
   "source": [
    "def insertion_sort(arr):\n",
    "    n = len(arr)\n",
    "    for i in range(1, n):\n",
    "        j = i\n",
    "        while j > 0 and arr[j] < arr[j-1]:\n",
    "            arr[j], arr[j-1] = arr[j-1], arr[j]\n",
    "            j -= 1\n",
    "    return arr\n",
    "\n",
    "arr = [100,3,6,2,-1,-6,4,20]\n",
    "arr = insertion_sort(arr)\n",
    "print (\"Sorted array is\")\n",
    "for i in range(n):\n",
    "     print (arr[i],end=\" \")"
   ]
  },
  {
   "cell_type": "code",
   "execution_count": null,
   "id": "812acac4",
   "metadata": {},
   "outputs": [],
   "source": []
  },
  {
   "cell_type": "markdown",
   "id": "adf7716f",
   "metadata": {},
   "source": [
    "# selection sort -> n^2"
   ]
  },
  {
   "cell_type": "code",
   "execution_count": 28,
   "id": "13356405",
   "metadata": {},
   "outputs": [
    {
     "name": "stdout",
     "output_type": "stream",
     "text": [
      "Sorted array is\n",
      "-6 -1 2 3 4 6 20 100 "
     ]
    }
   ],
   "source": [
    "def selection_sort(arr):\n",
    "    n = len(arr)\n",
    "    for i in range(0,n):\n",
    "        min_idx = i\n",
    "        j = i + 1\n",
    "        while j < n:\n",
    "            if arr[min_idx] > arr[j]:\n",
    "                min_idx = j\n",
    "            j += 1\n",
    "        arr[i], arr[min_idx] = arr[min_idx], arr[i] \n",
    "    return arr\n",
    "arr = [100,3,6,2,-1,-6,4,20]\n",
    "arr = selection_sort(arr)\n",
    "print (\"Sorted array is\")\n",
    "for i in range(n):\n",
    "     print (arr[i],end=\" \")"
   ]
  },
  {
   "cell_type": "code",
   "execution_count": null,
   "id": "64704fdd",
   "metadata": {},
   "outputs": [],
   "source": []
  },
  {
   "cell_type": "markdown",
   "id": "f5806ba9",
   "metadata": {},
   "source": [
    "# Merge sort -> n*long(n)"
   ]
  },
  {
   "cell_type": "code",
   "execution_count": 88,
   "id": "e86539dc",
   "metadata": {},
   "outputs": [
    {
     "name": "stdout",
     "output_type": "stream",
     "text": [
      "Sorted array is\n",
      "-6 -1 2 3 4 6 20 100 "
     ]
    }
   ],
   "source": [
    "def merge_sort(arr):\n",
    "    if len(arr) <= 1:\n",
    "        return arr\n",
    "    \n",
    "    # Divide the array into two halves\n",
    "    mid = len(arr) // 2\n",
    "    left_half = arr[:mid]\n",
    "    right_half = arr[mid:]\n",
    "    \n",
    "    # Recursively sort the two halves\n",
    "    left_half = merge_sort(left_half)\n",
    "    right_half = merge_sort(right_half)\n",
    "\n",
    "    \n",
    "    # Merge the sorted halves back together\n",
    "    return merge(left_half, right_half)\n",
    "    \n",
    "def merge(left_half, right_half):\n",
    "    result = []\n",
    "    i, j = 0, 0\n",
    "    \n",
    "    # Merge the two halves by comparing the first element of each\n",
    "    # and adding the smaller one to the result list\n",
    "    while i < len(left_half) and j < len(right_half):\n",
    "        if left_half[i] <= right_half[j]:\n",
    "            result.append(left_half[i])\n",
    "            i += 1\n",
    "        else:\n",
    "            result.append(right_half[j])\n",
    "            j += 1\n",
    "    \n",
    "    # Add any remaining elements to the result list\n",
    "    result += left_half[i:]\n",
    "    result += right_half[j:]\n",
    "    \n",
    "    return result\n",
    "\n",
    "arr = [100,3,6,2,-1,-6,4,20]\n",
    "arr = merge_sort(arr)\n",
    "print (\"Sorted array is\")\n",
    "for i in range(n):\n",
    "     print (arr[i],end=\" \")"
   ]
  },
  {
   "cell_type": "code",
   "execution_count": null,
   "id": "086a166f",
   "metadata": {},
   "outputs": [],
   "source": []
  }
 ],
 "metadata": {
  "kernelspec": {
   "display_name": "Python 3 (ipykernel)",
   "language": "python",
   "name": "python3"
  },
  "language_info": {
   "codemirror_mode": {
    "name": "ipython",
    "version": 3
   },
   "file_extension": ".py",
   "mimetype": "text/x-python",
   "name": "python",
   "nbconvert_exporter": "python",
   "pygments_lexer": "ipython3",
   "version": "3.9.13"
  }
 },
 "nbformat": 4,
 "nbformat_minor": 5
}
