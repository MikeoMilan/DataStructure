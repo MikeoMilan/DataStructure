{
 "cells": [
  {
   "cell_type": "code",
   "execution_count": 264,
   "id": "11986e6a",
   "metadata": {},
   "outputs": [
    {
     "data": {
      "text/plain": [
       "[[0, 1, 2, 3],\n",
       " [1, 1, 2, 3],\n",
       " [2, 2, 1, 2],\n",
       " [3, 2, 2, 2],\n",
       " [4, 3, 3, 2],\n",
       " [5, 4, 4, 3]]"
      ]
     },
     "execution_count": 264,
     "metadata": {},
     "output_type": "execute_result"
    }
   ],
   "source": [
    "word1 = \"horse\"\n",
    "word2 = \"ros\"\n",
    "m,n = len(word1), len(word2)\n",
    "dpmatrix = [[0]*(n+1) for i in range(m+1)] #[m,n] \n",
    "# need 1 more dim to fill with 0 cuz \"h\" -> \"r\" = 1 not 0\n",
    "\n",
    "\n",
    "# 3 ways of altering： \n",
    "# replace: dp[i][j] = dp[i-1][j-1] + 1\n",
    "# add:     dp[i][j] = dp[i-1][j] + 1\n",
    "# del:     dp[i][j] = dp[i][j-1] + 1\n",
    "# so the definition of state tranfering equation is:\n",
    "# dp[i] [j] = min(dp[i-1] [j-1]，dp[i] [j-1]，dp[[i-1] [j]]) + 1;\n",
    "\n",
    "for i in range(1,m+1):\n",
    "    dpmatrix[i][0] = dpmatrix[i-1][0] + 1\n",
    "for j in range(1,n+1):\n",
    "    dpmatrix[0][j] = dpmatrix[0][j-1] + 1\n",
    "\n",
    "for i in range(1,m+1):\n",
    "    for j in range(1,n+1):\n",
    "        if word1[i-1] == word2[j-1]:\n",
    "            dpmatrix[i][j] = dpmatrix[i-1][j-1]\n",
    "        else:\n",
    "            dpmatrix[i][j] = min(dpmatrix[i-1][j-1], dpmatrix[i][j-1], dpmatrix[i-1][j]) + 1\n",
    "dpmatrix"
   ]
  },
  {
   "cell_type": "code",
   "execution_count": 181,
   "id": "b71af3c9",
   "metadata": {},
   "outputs": [
    {
     "name": "stdout",
     "output_type": "stream",
     "text": [
      "573147844013817084101\n"
     ]
    }
   ],
   "source": [
    "n = 100\n",
    "dp = [i for i in range(n+1)]\n",
    "for i in range(3, len(dp)):\n",
    "    dp[i] = dp[i-1] + dp[i-2]\n",
    "print(dp[-1])"
   ]
  },
  {
   "cell_type": "code",
   "execution_count": 190,
   "id": "5423cd9b",
   "metadata": {},
   "outputs": [
    {
     "name": "stdout",
     "output_type": "stream",
     "text": [
      "PAHNAPLSIIGYIR\n",
      "PAHNAPLSIIGYIR\n"
     ]
    }
   ],
   "source": [
    "s = \"PAYPALISHIRING\"\n",
    "numRows = 3\n",
    "ans = [[] for i in range(numRows)]\n",
    "row = 0\n",
    "direction = 1\n",
    "for char in s:\n",
    "    ans[row].append(char)\n",
    "    if row == (numRows - 1):\n",
    "        direction = -1\n",
    "    if row == 0:\n",
    "        direction = 1\n",
    "    row += direction\n",
    "res = \"\"\n",
    "for i in range(len(ans)):\n",
    "    for j in range(len(ans[i])):\n",
    "        res += ans[i][j]\n",
    "print(res)\n",
    "print(\"PAHNAPLSIIGYIR\")"
   ]
  },
  {
   "cell_type": "code",
   "execution_count": 226,
   "id": "7e2e8232",
   "metadata": {},
   "outputs": [
    {
     "name": "stdout",
     "output_type": "stream",
     "text": [
      "[1]\n",
      "0 1\n",
      "[1, 2]\n",
      "1 1\n"
     ]
    },
    {
     "data": {
      "text/plain": [
       "[1, 2]"
      ]
     },
     "execution_count": 226,
     "metadata": {},
     "output_type": "execute_result"
    }
   ],
   "source": [
    "num1 = [2,0]\n",
    "num2 = [1]\n",
    "m,n = 1,1\n",
    "ans = []\n",
    "p1, p2 = 0, 0\n",
    "while p1 < m or p2 < n:\n",
    "    if p1 == m:\n",
    "        ans.append(num2[p2])\n",
    "        p2 += 1\n",
    "    elif p2 == n:\n",
    "        ans.append(num1[p1])\n",
    "        p1 += 1\n",
    "    elif num1[p1] < num2[p2]:\n",
    "        ans.append(num1[p1])\n",
    "        p1 += 1\n",
    "    elif num1[p1] >= num2[p2]:\n",
    "        ans.append(num2[p2])\n",
    "        p2 += 1\n",
    "    print(ans)\n",
    "    print(p1,p2)\n",
    "\n",
    "num1[:] = ans.copy()\n",
    "num1"
   ]
  },
  {
   "cell_type": "code",
   "execution_count": 229,
   "id": "8469ba33",
   "metadata": {},
   "outputs": [
    {
     "name": "stdout",
     "output_type": "stream",
     "text": [
      "True\n",
      "False\n"
     ]
    }
   ],
   "source": [
    "nums = [2,14,18,22,22]\n",
    "dic = {}\n",
    "for i in range(len(nums)):\n",
    "    if nums[i] not in dic:\n",
    "        dic[nums[i]] = 1\n",
    "    else: \n",
    "        dic[nums[i]] += 1\n",
    "for key in dic.keys():\n",
    "    if dic[key] > 1:\n",
    "        print(True)\n",
    "    else:\n",
    "        pass\n",
    "print(False)"
   ]
  },
  {
   "cell_type": "code",
   "execution_count": 241,
   "id": "79c0d6ca",
   "metadata": {},
   "outputs": [
    {
     "data": {
      "text/plain": [
       "[[1], [1, 1], [1, 2, 1], [1, 3, 3, 1], [1, 4, 6, 4, 1]]"
      ]
     },
     "execution_count": 241,
     "metadata": {},
     "output_type": "execute_result"
    }
   ],
   "source": [
    "dp = []\n",
    "n = 5\n",
    "for i in range(1,n+1):\n",
    "    dp.append([1 for i in range(i)])\n",
    "for i in range(2, len(dp)):\n",
    "    for j in range(1, len(dp[i])-1):\n",
    "        dp[i][j] = dp[i-1][j-1] + dp[i-1][j]\n",
    "dp"
   ]
  },
  {
   "cell_type": "code",
   "execution_count": 259,
   "id": "a9b8c0db",
   "metadata": {},
   "outputs": [
    {
     "name": "stdout",
     "output_type": "stream",
     "text": [
      "[[1, 1, 1, 1, 1, 1]]\n",
      "[[1, 2, 1, 1, 1, 1]]\n",
      "[[1, 2, 3, 1, 1, 1]]\n",
      "[[1, 2, 3, 4, 1, 1]]\n",
      "[[1, 2, 3, 4, 5, 1]]\n",
      "[[1, 2, 3, 4, 5, 6]]\n",
      "[[1, 2, 3, 4, 5, 6]]\n"
     ]
    }
   ],
   "source": [
    "nums = [[1,2],[3,4],[5,6]] \n",
    "r = 1\n",
    "c = 6\n",
    "row, col = len(nums), len(nums[0])\n",
    "res = [[1] * c for _ in range(r)]\n",
    "for i in range(r*c):\n",
    "    res[i//c][i%c] = nums[i//col][i%col]\n",
    "    print(res)\n",
    "print(res)\n",
    "    \n"
   ]
  },
  {
   "cell_type": "code",
   "execution_count": 306,
   "id": "a8ab6223",
   "metadata": {},
   "outputs": [
    {
     "data": {
      "text/plain": [
       "[[-4, -2, 6], [-4, 0, 4], [-4, 1, 3], [-4, 2, 2], [-2, -2, 4], [-2, 0, 2]]"
      ]
     },
     "execution_count": 306,
     "metadata": {},
     "output_type": "execute_result"
    }
   ],
   "source": [
    "nums = [-4,-2,-2,-2,0,1,2,2,2,3,3,4,4,6,6]\n",
    "if len(nums) < 3:\n",
    "    ans = []\n",
    "nums.sort()\n",
    "ans = []\n",
    "for i in range(len(nums)):\n",
    "    if nums[i] > 0: break\n",
    "    left = i + 1\n",
    "    right = len(nums) - 1\n",
    "    while left < right:\n",
    "        if nums[i] + nums[right] + nums[left] == 0:\n",
    "            ans.append([nums[i], nums[left], nums[right]])\n",
    "            right -= 1\n",
    "            left += 1\n",
    "        elif nums[i] + nums[right] + nums[left] > 0:\n",
    "            right -= 1\n",
    "        elif nums[i] + nums[right] + nums[left] < 0:\n",
    "            left += 1\n",
    "\n",
    "dic = {}\n",
    "for i in range(len(ans)):\n",
    "    if ans[i] not in dic.values():\n",
    "        dic[i] = ans[i]\n",
    "list(dic.values())"
   ]
  },
  {
   "cell_type": "code",
   "execution_count": 333,
   "id": "5ce0a7f0",
   "metadata": {},
   "outputs": [
    {
     "name": "stdout",
     "output_type": "stream",
     "text": [
      "9\n"
     ]
    }
   ],
   "source": [
    "digits = \"23\"\n",
    "digit_map ={\n",
    "    0:\"0\",\n",
    "    1:\"1\",\n",
    "    2:\"abc\",\n",
    "    3:\"def\",\n",
    "    4:\"ghi\",\n",
    "    5:\"jkl\",\n",
    "    6:\"mno\",\n",
    "    7:\"pqrs\",\n",
    "    8:\"tuv\",\n",
    "    9:\"wxyz\"\n",
    "} \n",
    "result = [\"\"]\n",
    "for digit in digits:\n",
    "    temp = []\n",
    "    for ch in digit_map[int(digit)]:\n",
    "        for string in result:\n",
    "            temp.append(string + ch)\n",
    "    result = temp\n",
    "print(len(result))"
   ]
  },
  {
   "cell_type": "code",
   "execution_count": 345,
   "id": "d90a8fe4",
   "metadata": {},
   "outputs": [
    {
     "data": {
      "text/plain": [
       "[(1, (5, 1)), (2, (4, 2)), (3, (3, 3)), (4, (2, 4)), (5, (1, 5))]"
      ]
     },
     "execution_count": 345,
     "metadata": {},
     "output_type": "execute_result"
    }
   ],
   "source": [
    "ss = {\n",
    "    5:(1,5),\n",
    "    4:(2,4),\n",
    "    3:(3,3),\n",
    "    2:(4,2),\n",
    "    1:(5,1)\n",
    "}\n",
    "def dict_sort_by_value(dict_input):\n",
    "    return sorted(dict_input.items(), key=lambda x : x[1][0], reverse=True)\n",
    "\n",
    "dict_sort_by_value(ss)"
   ]
  },
  {
   "cell_type": "code",
   "execution_count": 347,
   "id": "76f71c1e",
   "metadata": {},
   "outputs": [
    {
     "data": {
      "text/plain": [
       "[(1, 3), (2, 2), (3, 1)]"
      ]
     },
     "execution_count": 347,
     "metadata": {},
     "output_type": "execute_result"
    }
   ],
   "source": [
    "ss = [(1,3), (2,2), (3,1)]\n",
    "sorted(ss, key=lambda x : x[1], reverse=True)"
   ]
  },
  {
   "cell_type": "code",
   "execution_count": null,
   "id": "b617ad1a",
   "metadata": {},
   "outputs": [],
   "source": []
  },
  {
   "cell_type": "code",
   "execution_count": 357,
   "id": "1a52da0f",
   "metadata": {},
   "outputs": [
    {
     "data": {
      "text/plain": [
       "[(-2, -1, 1, 2), (-1, 0, 0, 1), (-2, 0, 0, 2)]"
      ]
     },
     "execution_count": 357,
     "metadata": {},
     "output_type": "execute_result"
    }
   ],
   "source": [
    "nums = [1,0,-1,0,-2,2]\n",
    "target = 0\n",
    "nums.sort()\n",
    "ans = set()\n",
    "for i in range(len(nums)-3):\n",
    "    for j in range(i+1, len(nums)-2):\n",
    "        now = nums[i] + nums[j]\n",
    "        p = j + 1\n",
    "        q = len(nums) - 1\n",
    "        while p < q:\n",
    "            if nums[p] + nums[q] + now == target:\n",
    "                if (nums[i], nums[j], nums[p], nums[q]) not in ans:\n",
    "                    ans.add((nums[i], nums[j], nums[p], nums[q]))\n",
    "            if nums[p] + nums[q] + now > target:\n",
    "                q -= 1\n",
    "            else:\n",
    "                p += 1\n",
    "list(ans)"
   ]
  },
  {
   "cell_type": "code",
   "execution_count": null,
   "id": "89e55941",
   "metadata": {},
   "outputs": [],
   "source": []
  },
  {
   "cell_type": "code",
   "execution_count": 378,
   "id": "b1eede15",
   "metadata": {},
   "outputs": [
    {
     "name": "stdout",
     "output_type": "stream",
     "text": [
      "{'(': ')', '[': ']', '{': '}'}\n",
      "{'(': ')', '[': ']', '{': '}'}\n",
      "{'(': ')', '[': ']', '{': '}'}\n",
      "True\n"
     ]
    }
   ],
   "source": [
    "s = \"()[]{}\"\n",
    "stack = []\n",
    "lookup = {\"(\": \")\",\n",
    "          \"[\": \"]\",\n",
    "          \"{\": \"}\"}\n",
    "for parenthese in s:\n",
    "    if parenthese in lookup:\n",
    "        stack.append(parenthese)\n",
    "    elif len(stack) == 0 or lookup[stack.pop()] != parenthese:\n",
    "        print(False) \n",
    "print(len(stack) == 0)"
   ]
  }
 ],
 "metadata": {
  "kernelspec": {
   "display_name": "Python 3 (ipykernel)",
   "language": "python",
   "name": "python3"
  },
  "language_info": {
   "codemirror_mode": {
    "name": "ipython",
    "version": 3
   },
   "file_extension": ".py",
   "mimetype": "text/x-python",
   "name": "python",
   "nbconvert_exporter": "python",
   "pygments_lexer": "ipython3",
   "version": "3.9.13"
  }
 },
 "nbformat": 4,
 "nbformat_minor": 5
}
